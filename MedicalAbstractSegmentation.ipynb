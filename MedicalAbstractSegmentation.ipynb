{
  "cells": [
    {
      "cell_type": "code",
      "execution_count": null,
      "metadata": {
        "id": "guiZkFKy4g-y"
      },
      "outputs": [],
      "source": [
        "# Imports\n",
        "\n",
        "import re\n",
        "import os\n",
        "import string\n",
        "import tensorflow as tf\n",
        "import tensorflow_hub as hub\n",
        "import numpy as np\n",
        "import nltk\n",
        "import pandas as pd\n",
        "import matplotlib.pyplot as plt\n",
        "from keras.utils import plot_model\n",
        "from sklearn.naive_bayes import MultinomialNB\n",
        "from sklearn.feature_extraction.text import TfidfVectorizer\n",
        "from sklearn.metrics import f1_score, precision_score, recall_score\n",
        "from tensorflow.keras.preprocessing.text import Tokenizer\n",
        "from tensorflow.keras.preprocessing.sequence import pad_sequences\n",
        "from nltk.corpus import stopwords\n",
        "from scipy.stats import skew\n",
        "from collections import Counter, defaultdict"
      ]
    },
    {
      "cell_type": "code",
      "source": [
        "tf.__version__"
      ],
      "metadata": {
        "colab": {
          "base_uri": "https://localhost:8080/",
          "height": 35
        },
        "id": "8o2oDM2GhTL0",
        "outputId": "7072c31a-f579-4857-f6b3-80f5051ddcd8"
      },
      "execution_count": null,
      "outputs": [
        {
          "output_type": "execute_result",
          "data": {
            "text/plain": [
              "'2.15.0'"
            ],
            "application/vnd.google.colaboratory.intrinsic+json": {
              "type": "string"
            }
          },
          "metadata": {},
          "execution_count": 4
        }
      ]
    },
    {
      "cell_type": "code",
      "source": [
        "!python --version"
      ],
      "metadata": {
        "id": "KYVEejU1q54Q",
        "outputId": "e590782f-54df-411e-b0e9-b8549ef290e3",
        "colab": {
          "base_uri": "https://localhost:8080/"
        }
      },
      "execution_count": null,
      "outputs": [
        {
          "output_type": "stream",
          "name": "stdout",
          "text": [
            "Python 3.10.12\n"
          ]
        }
      ]
    },
    {
      "cell_type": "code",
      "execution_count": null,
      "metadata": {
        "colab": {
          "base_uri": "https://localhost:8080/"
        },
        "id": "-0fIuBFh4i7B",
        "outputId": "0ebba379-5a82-4c87-8253-42ac3c062795"
      },
      "outputs": [
        {
          "name": "stdout",
          "output_type": "stream",
          "text": [
            "Cloning into 'pubmed-rct'...\n",
            "remote: Enumerating objects: 39, done.\u001b[K\n",
            "remote: Counting objects: 100% (14/14), done.\u001b[K\n",
            "remote: Compressing objects: 100% (9/9), done.\u001b[K\n",
            "^C\n"
          ]
        }
      ],
      "source": [
        "# Downloading dataset\n",
        "\n",
        "!rm -rf pubmed-rct\n",
        "!git clone https://github.com/Franck-Dernoncourt/pubmed-rct.git"
      ]
    },
    {
      "cell_type": "code",
      "execution_count": null,
      "metadata": {
        "id": "0LCLTFZc4NqF"
      },
      "outputs": [],
      "source": [
        "# Global variables\n",
        "\n",
        "DATA_DIR = '/content/drive/MyDrive/SCRIPTS/TensorflowRoot/Data/PubMed_200k_RCT'"
      ]
    },
    {
      "cell_type": "code",
      "execution_count": null,
      "metadata": {
        "id": "J0Yqpdh04BOl"
      },
      "outputs": [],
      "source": [
        "# Loading data functions\n",
        "\n",
        "def parse_abstract(lines):\n",
        "    \"\"\"\n",
        "    Parses lines of an abstract into a list of dictionaries, each containing line number,\n",
        "    target, text, and total_lines.\n",
        "\n",
        "    :param lines: List of lines in an abstract\n",
        "    :return: List of dictionaries with parsed data\n",
        "    \"\"\"\n",
        "    abstract_data = []\n",
        "    for i, line in enumerate(lines):\n",
        "        line_split = line.strip().split('\\t', 1)\n",
        "        if len(line_split) == 2:  # Ensure the line has both target and text\n",
        "            abstract_data.append({\n",
        "                'line_number': i,\n",
        "                'target': line_split[0],\n",
        "                'text': line_split[1],\n",
        "            })\n",
        "    # Add total_lines to each entry in the abstract\n",
        "    total_lines = len(abstract_data)\n",
        "    for entry in abstract_data:\n",
        "        entry['total_lines'] = total_lines\n",
        "    return abstract_data\n",
        "\n",
        "\n",
        "def load_data(data_dir):\n",
        "    \"\"\"\n",
        "    Loads data from text files in the specified directory and organizes it into\n",
        "    train, test, and dev datasets, along with a set of unique labels.\n",
        "\n",
        "    :param data_dir: The directory containing the data files.\n",
        "    :return: A tuple containing lists for train, test, and dev data, and a set of labels.\n",
        "    \"\"\"\n",
        "    train_data, test_data, dev_data = [], [], []\n",
        "\n",
        "    pattern = re.compile(r'^#{3}\\d+')\n",
        "\n",
        "    for file_name in os.listdir(data_dir):\n",
        "        if 'train' in file_name:\n",
        "            current_data = train_data\n",
        "        elif 'dev' in file_name:\n",
        "            current_data = dev_data\n",
        "        elif 'test' in file_name:\n",
        "            current_data = test_data\n",
        "        else:\n",
        "            continue  # Skip files that don't match any category\n",
        "\n",
        "        with open(os.path.join(data_dir, file_name), 'r', encoding='utf-8') as file:\n",
        "            abstract_lines = []\n",
        "            for line in file:\n",
        "                if pattern.match(line):\n",
        "                    if abstract_lines:  # If starting a new abstract, parse the previous one\n",
        "                        current_data.extend(parse_abstract(abstract_lines))\n",
        "                        abstract_lines = []\n",
        "                else:\n",
        "                    abstract_lines.append(line)\n",
        "            if abstract_lines:  # Ensure the last abstract is also processed\n",
        "                current_data.extend(parse_abstract(abstract_lines))\n",
        "\n",
        "    return train_data, test_data, dev_data\n",
        "\n",
        "\n",
        "def get_str_labels(data):\n",
        "    return list(map(lambda sent: sent['target'], data))"
      ]
    },
    {
      "cell_type": "code",
      "execution_count": null,
      "metadata": {
        "id": "0hjGMFZJ4HXH"
      },
      "outputs": [],
      "source": [
        "# Loading data\n",
        "\n",
        "train_data, test_data, dev_data = load_data(data_dir=DATA_DIR)"
      ]
    },
    {
      "cell_type": "code",
      "execution_count": null,
      "metadata": {
        "colab": {
          "base_uri": "https://localhost:8080/"
        },
        "id": "cWx3uYeQBTyI",
        "outputId": "22060813-81ba-4c98-f345-421d5241747d"
      },
      "outputs": [
        {
          "name": "stderr",
          "output_type": "stream",
          "text": [
            "[nltk_data] Downloading package stopwords to /root/nltk_data...\n",
            "[nltk_data]   Unzipping corpora/stopwords.zip.\n"
          ]
        },
        {
          "data": {
            "text/plain": [
              "True"
            ]
          },
          "execution_count": 5,
          "metadata": {},
          "output_type": "execute_result"
        }
      ],
      "source": [
        "nltk.download('stopwords')"
      ]
    },
    {
      "cell_type": "code",
      "execution_count": null,
      "metadata": {
        "id": "OYDWfm99AEcD"
      },
      "outputs": [],
      "source": [
        "# Data Analysis\n",
        "\n",
        "STOPWORDS = set(stopwords.words('english'))\n",
        "\n",
        "class Analyzer:\n",
        "    def __init__(self, data):\n",
        "        self.data = data\n",
        "        self.df = pd.DataFrame(data)\n",
        "        self.label_distribution = self.df.target.value_counts()\n",
        "        self.total_lines_distribution = self.df.total_lines.plot.hist\n",
        "        self.sentences = self.df.text.to_list()\n",
        "        self.sentence_lengths = [len(sentence.split()) for sentence in self.sentences]\n",
        "        self.mean_sentence_length = np.mean(self.sentence_lengths)\n",
        "        self.best_sentence_coverage = np.percentile(self.sentence_lengths, 95)\n",
        "        self.maximum_sentence_length = max(self.sentence_lengths)\n",
        "        self.vocabulary_size = len(set(word for string in self.sentences for word in string.split() if word not in STOPWORDS))\n",
        "        self.sentence_lengths_by_chars = [len(sentence) for sentence in self.sentences]\n",
        "        self.best_sentence_coverage_by_chars = np.percentile(self.sentence_lengths_by_chars, 95)\n",
        "        self.mean_sentence_lengths_by_chars = np.mean(self.sentence_lengths_by_chars)\n",
        "        self.line_numbers = self.df.line_number.to_list()\n",
        "        self.line_number_distribution_list = self.df.line_number.value_counts()\n",
        "        self.best_line_number_coverage = np.percentile(self.line_numbers, 95)\n",
        "\n",
        "    def sentence_lengths_distribution(self):\n",
        "        self.sentence_lengths_distribution = plt.hist(self.sentence_lengths, bins=20)\n",
        "\n",
        "    def sentence_lengths_distribution_by_chars(self):\n",
        "        self.sentence_lengths_distribution_by_chars = plt.hist(self.sentence_lengths_by_chars, bins=20)\n",
        "\n",
        "    def line_number_distribution(self):\n",
        "        self.df.line_number.plot.hist()"
      ]
    },
    {
      "cell_type": "code",
      "execution_count": null,
      "metadata": {
        "colab": {
          "background_save": true
        },
        "id": "vh9YXaOq2ppn"
      },
      "outputs": [],
      "source": [
        "train_data_analyzer = Analyzer(train_data)"
      ]
    },
    {
      "cell_type": "code",
      "execution_count": null,
      "metadata": {
        "colab": {
          "background_save": true
        },
        "id": "eZL9C1xNE5_q",
        "outputId": "9af9fb9e-9db0-4ae8-acf1-e6381a292560"
      },
      "outputs": [
        {
          "data": {
            "application/vnd.google.colaboratory.intrinsic+json": {
              "type": "dataframe"
            },
            "text/html": [
              "\n",
              "  <div id=\"df-c07a9932-7b15-46ff-a12e-ba7e3da9b997\" class=\"colab-df-container\">\n",
              "    <div>\n",
              "<style scoped>\n",
              "    .dataframe tbody tr th:only-of-type {\n",
              "        vertical-align: middle;\n",
              "    }\n",
              "\n",
              "    .dataframe tbody tr th {\n",
              "        vertical-align: top;\n",
              "    }\n",
              "\n",
              "    .dataframe thead th {\n",
              "        text-align: right;\n",
              "    }\n",
              "</style>\n",
              "<table border=\"1\" class=\"dataframe\">\n",
              "  <thead>\n",
              "    <tr style=\"text-align: right;\">\n",
              "      <th></th>\n",
              "      <th>line_number</th>\n",
              "      <th>target</th>\n",
              "      <th>text</th>\n",
              "      <th>total_lines</th>\n",
              "    </tr>\n",
              "  </thead>\n",
              "  <tbody>\n",
              "    <tr>\n",
              "      <th>0</th>\n",
              "      <td>0</td>\n",
              "      <td>BACKGROUND</td>\n",
              "      <td>The emergence of HIV as a chronic condition me...</td>\n",
              "      <td>11</td>\n",
              "    </tr>\n",
              "    <tr>\n",
              "      <th>1</th>\n",
              "      <td>1</td>\n",
              "      <td>BACKGROUND</td>\n",
              "      <td>This paper describes the design and evaluation...</td>\n",
              "      <td>11</td>\n",
              "    </tr>\n",
              "    <tr>\n",
              "      <th>2</th>\n",
              "      <td>2</td>\n",
              "      <td>METHODS</td>\n",
              "      <td>This study is designed as a randomised control...</td>\n",
              "      <td>11</td>\n",
              "    </tr>\n",
              "    <tr>\n",
              "      <th>3</th>\n",
              "      <td>3</td>\n",
              "      <td>METHODS</td>\n",
              "      <td>The intervention group will participate in the...</td>\n",
              "      <td>11</td>\n",
              "    </tr>\n",
              "    <tr>\n",
              "      <th>4</th>\n",
              "      <td>4</td>\n",
              "      <td>METHODS</td>\n",
              "      <td>The program is based on self-efficacy theory a...</td>\n",
              "      <td>11</td>\n",
              "    </tr>\n",
              "    <tr>\n",
              "      <th>...</th>\n",
              "      <td>...</td>\n",
              "      <td>...</td>\n",
              "      <td>...</td>\n",
              "      <td>...</td>\n",
              "    </tr>\n",
              "    <tr>\n",
              "      <th>2211856</th>\n",
              "      <td>5</td>\n",
              "      <td>METHODS</td>\n",
              "      <td>After crossover , the wait-list group received...</td>\n",
              "      <td>10</td>\n",
              "    </tr>\n",
              "    <tr>\n",
              "      <th>2211857</th>\n",
              "      <td>6</td>\n",
              "      <td>METHODS</td>\n",
              "      <td>Performance was assessed by comparison to Amer...</td>\n",
              "      <td>10</td>\n",
              "    </tr>\n",
              "    <tr>\n",
              "      <th>2211858</th>\n",
              "      <td>7</td>\n",
              "      <td>RESULTS</td>\n",
              "      <td>Performance improved significantly after simul...</td>\n",
              "      <td>10</td>\n",
              "    </tr>\n",
              "    <tr>\n",
              "      <th>2211859</th>\n",
              "      <td>8</td>\n",
              "      <td>RESULTS</td>\n",
              "      <td>No improvement was detected as a function of c...</td>\n",
              "      <td>10</td>\n",
              "    </tr>\n",
              "    <tr>\n",
              "      <th>2211860</th>\n",
              "      <td>9</td>\n",
              "      <td>RESULTS</td>\n",
              "      <td>The educational program was rated highly .</td>\n",
              "      <td>10</td>\n",
              "    </tr>\n",
              "  </tbody>\n",
              "</table>\n",
              "<p>2211861 rows × 4 columns</p>\n",
              "</div>\n",
              "    <div class=\"colab-df-buttons\">\n",
              "\n",
              "  <div class=\"colab-df-container\">\n",
              "    <button class=\"colab-df-convert\" onclick=\"convertToInteractive('df-c07a9932-7b15-46ff-a12e-ba7e3da9b997')\"\n",
              "            title=\"Convert this dataframe to an interactive table.\"\n",
              "            style=\"display:none;\">\n",
              "\n",
              "  <svg xmlns=\"http://www.w3.org/2000/svg\" height=\"24px\" viewBox=\"0 -960 960 960\">\n",
              "    <path d=\"M120-120v-720h720v720H120Zm60-500h600v-160H180v160Zm220 220h160v-160H400v160Zm0 220h160v-160H400v160ZM180-400h160v-160H180v160Zm440 0h160v-160H620v160ZM180-180h160v-160H180v160Zm440 0h160v-160H620v160Z\"/>\n",
              "  </svg>\n",
              "    </button>\n",
              "\n",
              "  <style>\n",
              "    .colab-df-container {\n",
              "      display:flex;\n",
              "      gap: 12px;\n",
              "    }\n",
              "\n",
              "    .colab-df-convert {\n",
              "      background-color: #E8F0FE;\n",
              "      border: none;\n",
              "      border-radius: 50%;\n",
              "      cursor: pointer;\n",
              "      display: none;\n",
              "      fill: #1967D2;\n",
              "      height: 32px;\n",
              "      padding: 0 0 0 0;\n",
              "      width: 32px;\n",
              "    }\n",
              "\n",
              "    .colab-df-convert:hover {\n",
              "      background-color: #E2EBFA;\n",
              "      box-shadow: 0px 1px 2px rgba(60, 64, 67, 0.3), 0px 1px 3px 1px rgba(60, 64, 67, 0.15);\n",
              "      fill: #174EA6;\n",
              "    }\n",
              "\n",
              "    .colab-df-buttons div {\n",
              "      margin-bottom: 4px;\n",
              "    }\n",
              "\n",
              "    [theme=dark] .colab-df-convert {\n",
              "      background-color: #3B4455;\n",
              "      fill: #D2E3FC;\n",
              "    }\n",
              "\n",
              "    [theme=dark] .colab-df-convert:hover {\n",
              "      background-color: #434B5C;\n",
              "      box-shadow: 0px 1px 3px 1px rgba(0, 0, 0, 0.15);\n",
              "      filter: drop-shadow(0px 1px 2px rgba(0, 0, 0, 0.3));\n",
              "      fill: #FFFFFF;\n",
              "    }\n",
              "  </style>\n",
              "\n",
              "    <script>\n",
              "      const buttonEl =\n",
              "        document.querySelector('#df-c07a9932-7b15-46ff-a12e-ba7e3da9b997 button.colab-df-convert');\n",
              "      buttonEl.style.display =\n",
              "        google.colab.kernel.accessAllowed ? 'block' : 'none';\n",
              "\n",
              "      async function convertToInteractive(key) {\n",
              "        const element = document.querySelector('#df-c07a9932-7b15-46ff-a12e-ba7e3da9b997');\n",
              "        const dataTable =\n",
              "          await google.colab.kernel.invokeFunction('convertToInteractive',\n",
              "                                                    [key], {});\n",
              "        if (!dataTable) return;\n",
              "\n",
              "        const docLinkHtml = 'Like what you see? Visit the ' +\n",
              "          '<a target=\"_blank\" href=https://colab.research.google.com/notebooks/data_table.ipynb>data table notebook</a>'\n",
              "          + ' to learn more about interactive tables.';\n",
              "        element.innerHTML = '';\n",
              "        dataTable['output_type'] = 'display_data';\n",
              "        await google.colab.output.renderOutput(dataTable, element);\n",
              "        const docLink = document.createElement('div');\n",
              "        docLink.innerHTML = docLinkHtml;\n",
              "        element.appendChild(docLink);\n",
              "      }\n",
              "    </script>\n",
              "  </div>\n",
              "\n",
              "\n",
              "<div id=\"df-6f1d6f2f-d600-4bdd-acff-2891f83688ce\">\n",
              "  <button class=\"colab-df-quickchart\" onclick=\"quickchart('df-6f1d6f2f-d600-4bdd-acff-2891f83688ce')\"\n",
              "            title=\"Suggest charts\"\n",
              "            style=\"display:none;\">\n",
              "\n",
              "<svg xmlns=\"http://www.w3.org/2000/svg\" height=\"24px\"viewBox=\"0 0 24 24\"\n",
              "     width=\"24px\">\n",
              "    <g>\n",
              "        <path d=\"M19 3H5c-1.1 0-2 .9-2 2v14c0 1.1.9 2 2 2h14c1.1 0 2-.9 2-2V5c0-1.1-.9-2-2-2zM9 17H7v-7h2v7zm4 0h-2V7h2v10zm4 0h-2v-4h2v4z\"/>\n",
              "    </g>\n",
              "</svg>\n",
              "  </button>\n",
              "\n",
              "<style>\n",
              "  .colab-df-quickchart {\n",
              "      --bg-color: #E8F0FE;\n",
              "      --fill-color: #1967D2;\n",
              "      --hover-bg-color: #E2EBFA;\n",
              "      --hover-fill-color: #174EA6;\n",
              "      --disabled-fill-color: #AAA;\n",
              "      --disabled-bg-color: #DDD;\n",
              "  }\n",
              "\n",
              "  [theme=dark] .colab-df-quickchart {\n",
              "      --bg-color: #3B4455;\n",
              "      --fill-color: #D2E3FC;\n",
              "      --hover-bg-color: #434B5C;\n",
              "      --hover-fill-color: #FFFFFF;\n",
              "      --disabled-bg-color: #3B4455;\n",
              "      --disabled-fill-color: #666;\n",
              "  }\n",
              "\n",
              "  .colab-df-quickchart {\n",
              "    background-color: var(--bg-color);\n",
              "    border: none;\n",
              "    border-radius: 50%;\n",
              "    cursor: pointer;\n",
              "    display: none;\n",
              "    fill: var(--fill-color);\n",
              "    height: 32px;\n",
              "    padding: 0;\n",
              "    width: 32px;\n",
              "  }\n",
              "\n",
              "  .colab-df-quickchart:hover {\n",
              "    background-color: var(--hover-bg-color);\n",
              "    box-shadow: 0 1px 2px rgba(60, 64, 67, 0.3), 0 1px 3px 1px rgba(60, 64, 67, 0.15);\n",
              "    fill: var(--button-hover-fill-color);\n",
              "  }\n",
              "\n",
              "  .colab-df-quickchart-complete:disabled,\n",
              "  .colab-df-quickchart-complete:disabled:hover {\n",
              "    background-color: var(--disabled-bg-color);\n",
              "    fill: var(--disabled-fill-color);\n",
              "    box-shadow: none;\n",
              "  }\n",
              "\n",
              "  .colab-df-spinner {\n",
              "    border: 2px solid var(--fill-color);\n",
              "    border-color: transparent;\n",
              "    border-bottom-color: var(--fill-color);\n",
              "    animation:\n",
              "      spin 1s steps(1) infinite;\n",
              "  }\n",
              "\n",
              "  @keyframes spin {\n",
              "    0% {\n",
              "      border-color: transparent;\n",
              "      border-bottom-color: var(--fill-color);\n",
              "      border-left-color: var(--fill-color);\n",
              "    }\n",
              "    20% {\n",
              "      border-color: transparent;\n",
              "      border-left-color: var(--fill-color);\n",
              "      border-top-color: var(--fill-color);\n",
              "    }\n",
              "    30% {\n",
              "      border-color: transparent;\n",
              "      border-left-color: var(--fill-color);\n",
              "      border-top-color: var(--fill-color);\n",
              "      border-right-color: var(--fill-color);\n",
              "    }\n",
              "    40% {\n",
              "      border-color: transparent;\n",
              "      border-right-color: var(--fill-color);\n",
              "      border-top-color: var(--fill-color);\n",
              "    }\n",
              "    60% {\n",
              "      border-color: transparent;\n",
              "      border-right-color: var(--fill-color);\n",
              "    }\n",
              "    80% {\n",
              "      border-color: transparent;\n",
              "      border-right-color: var(--fill-color);\n",
              "      border-bottom-color: var(--fill-color);\n",
              "    }\n",
              "    90% {\n",
              "      border-color: transparent;\n",
              "      border-bottom-color: var(--fill-color);\n",
              "    }\n",
              "  }\n",
              "</style>\n",
              "\n",
              "  <script>\n",
              "    async function quickchart(key) {\n",
              "      const quickchartButtonEl =\n",
              "        document.querySelector('#' + key + ' button');\n",
              "      quickchartButtonEl.disabled = true;  // To prevent multiple clicks.\n",
              "      quickchartButtonEl.classList.add('colab-df-spinner');\n",
              "      try {\n",
              "        const charts = await google.colab.kernel.invokeFunction(\n",
              "            'suggestCharts', [key], {});\n",
              "      } catch (error) {\n",
              "        console.error('Error during call to suggestCharts:', error);\n",
              "      }\n",
              "      quickchartButtonEl.classList.remove('colab-df-spinner');\n",
              "      quickchartButtonEl.classList.add('colab-df-quickchart-complete');\n",
              "    }\n",
              "    (() => {\n",
              "      let quickchartButtonEl =\n",
              "        document.querySelector('#df-6f1d6f2f-d600-4bdd-acff-2891f83688ce button');\n",
              "      quickchartButtonEl.style.display =\n",
              "        google.colab.kernel.accessAllowed ? 'block' : 'none';\n",
              "    })();\n",
              "  </script>\n",
              "</div>\n",
              "    </div>\n",
              "  </div>\n"
            ],
            "text/plain": [
              "         line_number      target  \\\n",
              "0                  0  BACKGROUND   \n",
              "1                  1  BACKGROUND   \n",
              "2                  2     METHODS   \n",
              "3                  3     METHODS   \n",
              "4                  4     METHODS   \n",
              "...              ...         ...   \n",
              "2211856            5     METHODS   \n",
              "2211857            6     METHODS   \n",
              "2211858            7     RESULTS   \n",
              "2211859            8     RESULTS   \n",
              "2211860            9     RESULTS   \n",
              "\n",
              "                                                      text  total_lines  \n",
              "0        The emergence of HIV as a chronic condition me...           11  \n",
              "1        This paper describes the design and evaluation...           11  \n",
              "2        This study is designed as a randomised control...           11  \n",
              "3        The intervention group will participate in the...           11  \n",
              "4        The program is based on self-efficacy theory a...           11  \n",
              "...                                                    ...          ...  \n",
              "2211856  After crossover , the wait-list group received...           10  \n",
              "2211857  Performance was assessed by comparison to Amer...           10  \n",
              "2211858  Performance improved significantly after simul...           10  \n",
              "2211859  No improvement was detected as a function of c...           10  \n",
              "2211860         The educational program was rated highly .           10  \n",
              "\n",
              "[2211861 rows x 4 columns]"
            ]
          },
          "execution_count": 8,
          "metadata": {},
          "output_type": "execute_result"
        }
      ],
      "source": [
        "# Overview of saved dataset attributes\n",
        "\n",
        "train_data_analyzer.df"
      ]
    },
    {
      "cell_type": "code",
      "execution_count": null,
      "metadata": {
        "colab": {
          "background_save": true
        },
        "id": "o3JQpD5n15fY",
        "outputId": "2ee07229-a5ce-4580-972e-7dd433a382fb"
      },
      "outputs": [
        {
          "data": {
            "text/plain": [
              "RESULTS        766271\n",
              "METHODS        722586\n",
              "CONCLUSIONS    339714\n",
              "BACKGROUND     196689\n",
              "OBJECTIVE      186601\n",
              "Name: target, dtype: int64"
            ]
          },
          "execution_count": 9,
          "metadata": {},
          "output_type": "execute_result"
        }
      ],
      "source": [
        "# Distribution of target labels\n",
        "\n",
        "train_data_analyzer.label_distribution"
      ]
    },
    {
      "cell_type": "code",
      "execution_count": null,
      "metadata": {
        "colab": {
          "background_save": true
        },
        "id": "Yppe0dYn2oCl",
        "outputId": "0f1e45a1-d6ec-46e1-81d3-c8bbd6620b93"
      },
      "outputs": [
        {
          "data": {
            "text/plain": [
              "<Axes: ylabel='Frequency'>"
            ]
          },
          "execution_count": 10,
          "metadata": {},
          "output_type": "execute_result"
        },
        {
          "data": {
            "image/png": "[encoded data removed]",
            "text/plain": [
              "<Figure size 640x480 with 1 Axes>"
            ]
          },
          "metadata": {},
          "output_type": "display_data"
        }
      ],
      "source": [
        "# Distribution of the abstracts' lengths\n",
        "\n",
        "train_data_analyzer.total_lines_distribution()"
      ]
    },
    {
      "cell_type": "code",
      "execution_count": null,
      "metadata": {
        "colab": {
          "base_uri": "https://localhost:8080/"
        },
        "id": "0h8Z_UY12s7n",
        "outputId": "d5240901-c72c-48c4-eb73-e938f5abb42b"
      },
      "outputs": [
        {
          "data": {
            "text/plain": [
              "26.229355280462922"
            ]
          },
          "execution_count": 13,
          "metadata": {},
          "output_type": "execute_result"
        }
      ],
      "source": [
        "# Mean/Average sentence length\n",
        "\n",
        "train_data_analyzer.mean_sentence_length"
      ]
    },
    {
      "cell_type": "code",
      "execution_count": null,
      "metadata": {
        "colab": {
          "base_uri": "https://localhost:8080/",
          "height": 445
        },
        "id": "6PE9jdca7Ssu",
        "outputId": "1224b926-5094-488b-d613-4cb72e6e4e9e"
      },
      "outputs": [
        {
          "data": {
            "image/png": "[encoded data removed]",
            "text/plain": [
              "<Figure size 640x480 with 1 Axes>"
            ]
          },
          "metadata": {},
          "output_type": "display_data"
        }
      ],
      "source": [
        "# Sentence lengths distribution\n",
        "\n",
        "train_data_analyzer.sentence_lengths_distribution()"
      ]
    },
    {
      "cell_type": "code",
      "execution_count": null,
      "metadata": {
        "colab": {
          "base_uri": "https://localhost:8080/"
        },
        "id": "neZboxPa7r9C",
        "outputId": "12545051-7f9d-463b-c7e1-8194edf94b77"
      },
      "outputs": [
        {
          "name": "stdout",
          "output_type": "stream",
          "text": [
            "54.0\n"
          ]
        }
      ],
      "source": [
        "# 95th percent of all sentences have this or shorter length\n",
        "\n",
        "sequence_length = train_data_analyzer.best_sentence_coverage\n",
        "print(sequence_length)"
      ]
    },
    {
      "cell_type": "code",
      "execution_count": null,
      "metadata": {
        "colab": {
          "base_uri": "https://localhost:8080/"
        },
        "id": "yiWviJ8b8yYN",
        "outputId": "52c9b8ae-489b-4c5a-9a22-56f2e55cb18c"
      },
      "outputs": [
        {
          "name": "stdout",
          "output_type": "stream",
          "text": [
            "338\n"
          ]
        }
      ],
      "source": [
        "# Maximum sentence length\n",
        "\n",
        "max_sequence_length = train_data_analyzer.maximum_sentence_length\n",
        "print(max_sequence_length)"
      ]
    },
    {
      "cell_type": "code",
      "execution_count": null,
      "metadata": {
        "colab": {
          "base_uri": "https://localhost:8080/"
        },
        "id": "smww0ODWxZ_g",
        "outputId": "e42a22c7-9cb4-48d0-a8a7-02f23c9358fa"
      },
      "outputs": [
        {
          "name": "stdout",
          "output_type": "stream",
          "text": [
            "471880\n"
          ]
        }
      ],
      "source": [
        "# Vocabulary size (number of unique words, word being everything that is not a stopword)\n",
        "\n",
        "vocab_size = train_data_analyzer.vocabulary_size\n",
        "print(vocab_size)"
      ]
    },
    {
      "cell_type": "code",
      "execution_count": null,
      "metadata": {
        "colab": {
          "base_uri": "https://localhost:8080/"
        },
        "id": "9cr_Bkl94jhj",
        "outputId": "af4fe693-2ccc-4c7b-e79d-3c30a6287b59"
      },
      "outputs": [
        {
          "data": {
            "text/plain": [
              "150.52200567757197"
            ]
          },
          "execution_count": 18,
          "metadata": {},
          "output_type": "execute_result"
        }
      ],
      "source": [
        "# Average sentence length by chars\n",
        "\n",
        "train_data_analyzer.mean_sentence_lengths_by_chars"
      ]
    },
    {
      "cell_type": "code",
      "execution_count": null,
      "metadata": {
        "colab": {
          "base_uri": "https://localhost:8080/",
          "height": 445
        },
        "id": "b9oUdHvY5Qus",
        "outputId": "b8f9024f-125a-45ef-e30c-25271205caca"
      },
      "outputs": [
        {
          "data": {
            "image/png": "[encoded data removed]",
            "text/plain": [
              "<Figure size 640x480 with 1 Axes>"
            ]
          },
          "metadata": {},
          "output_type": "display_data"
        }
      ],
      "source": [
        "# Sentence lengths distribution (by chars)\n",
        "\n",
        "train_data_analyzer.sentence_lengths_distribution_by_chars()"
      ]
    },
    {
      "cell_type": "code",
      "execution_count": null,
      "metadata": {
        "colab": {
          "base_uri": "https://localhost:8080/"
        },
        "id": "j8e9sX7I6B8c",
        "outputId": "d00b7cc2-ef13-4519-a39c-6b190d67cbb5"
      },
      "outputs": [
        {
          "name": "stdout",
          "output_type": "stream",
          "text": [
            "291.0\n"
          ]
        }
      ],
      "source": [
        "# 95th percent of all sentences have this or shorter length (by chars)\n",
        "\n",
        "char_sequence_length = train_data_analyzer.best_sentence_coverage_by_chars\n",
        "print(char_sequence_length)"
      ]
    },
    {
      "cell_type": "code",
      "execution_count": null,
      "metadata": {
        "colab": {
          "base_uri": "https://localhost:8080/",
          "height": 445
        },
        "id": "sIPofWkxETVb",
        "outputId": "2c2de98e-69a2-4fba-c17b-6c6f91f174d5"
      },
      "outputs": [
        {
          "data": {
            "image/png": "[encoded data removed]",
            "text/plain": [
              "<Figure size 640x480 with 1 Axes>"
            ]
          },
          "metadata": {},
          "output_type": "display_data"
        }
      ],
      "source": [
        "train_data_analyzer.line_number_distribution()"
      ]
    },
    {
      "cell_type": "code",
      "execution_count": null,
      "metadata": {
        "colab": {
          "base_uri": "https://localhost:8080/"
        },
        "id": "fY1jePTeElVo",
        "outputId": "fe9e47be-6816-4d4d-a861-7b346f4271f8"
      },
      "outputs": [
        {
          "name": "stdout",
          "output_type": "stream",
          "text": [
            "13.0\n"
          ]
        }
      ],
      "source": [
        "line_number_dim = train_data_analyzer.best_line_number_coverage\n",
        "print(line_number_dim)"
      ]
    },
    {
      "cell_type": "code",
      "execution_count": null,
      "metadata": {
        "id": "gbWc72oP44-a"
      },
      "outputs": [],
      "source": [
        "# Encoding labels to int-arrays/one-hots and sentences to str-arrays\n",
        "\n",
        "LABEL_INT_MAPPING = {\n",
        "    'BACKGROUND': 0,\n",
        "    'OBJECTIVE': 1,\n",
        "    'METHODS': 2,\n",
        "    'RESULTS': 3,\n",
        "    'CONCLUSIONS': 4,\n",
        "}\n",
        "\n",
        "INT_LABEL_MAPPING = {value: key for key, value in LABEL_INT_MAPPING.items()}\n",
        "\n",
        "LABELS_N = 5\n",
        "\n",
        "\n",
        "def one_hot_labels(data):\n",
        "    int_labels = str_to_int_labels(data)\n",
        "    return tf.one_hot(int_labels, depth=LABELS_N)\n",
        "\n",
        "\n",
        "def str_to_int_labels(data):\n",
        "    return list(map(lambda x: LABEL_INT_MAPPING[x], [item['target'] for item in data]))\n",
        "\n",
        "\n",
        "def get_sents(data):\n",
        "    return [abstract['text'] for abstract in data]"
      ]
    },
    {
      "cell_type": "code",
      "execution_count": null,
      "metadata": {
        "colab": {
          "background_save": true
        },
        "id": "qxZ1Qb7Y7Irn"
      },
      "outputs": [],
      "source": [
        "# Converting data labels into int-Tokens\n",
        "train_labels = str_to_int_labels(train_data)\n",
        "test_labels = str_to_int_labels(test_data)\n",
        "dev_labels = str_to_int_labels(dev_data)\n",
        "\n",
        "# Extracting lists of sentences from each dataset\n",
        "train_texts = get_sents(train_data)\n",
        "test_texts = get_sents(test_data)\n",
        "dev_texts = get_sents(dev_data)\n",
        "\n",
        "# Converting data labels to one-hot encodings\n",
        "train_labels_one_hot = one_hot_labels(train_data)\n",
        "test_labels_one_hot = one_hot_labels(test_data)\n",
        "dev_labels_one_hot = one_hot_labels(dev_data)"
      ]
    },
    {
      "cell_type": "code",
      "execution_count": null,
      "metadata": {
        "id": "d7E0AUsN-gMo"
      },
      "outputs": [],
      "source": [
        "class MultinomialNBBase():\n",
        "    def __init__(self, x_train, y_train, x_test, y_test, x_val, y_val):\n",
        "        self.x_train = x_train\n",
        "        self.y_train = y_train\n",
        "        self.x_test = x_test\n",
        "        self.y_test = y_test\n",
        "        self.x_val = x_val\n",
        "        self.y_val = y_val\n",
        "        self.model = MultinomialNB()\n",
        "\n",
        "    def vectorize(self):\n",
        "        vectorizer = TfidfVectorizer(lowercase=True)\n",
        "        self.x_train_vec = vectorizer.fit_transform(self.x_train)\n",
        "        self.x_test_vec = vectorizer.transform(self.x_test)\n",
        "\n",
        "    def fit(self):\n",
        "        self.model.fit(self.x_train_vec, self.y_train)\n",
        "\n",
        "    def train(self):\n",
        "        self.vectorize()\n",
        "        self.fit()\n",
        "\n",
        "    def evaluate(self, mode='print'):\n",
        "        y_pred = self.model.predict(self.x_test_vec)\n",
        "        average = 'weighted'\n",
        "        metrics = {\n",
        "            'accuracy': self.model.score(self.x_test_vec, self.y_test),\n",
        "            'f1_score': f1_score(y_true=self.y_test,\n",
        "                                 y_pred=y_pred,\n",
        "                                 average=average),\n",
        "        }\n",
        "        if mode == 'print':\n",
        "            for metric, value in metrics.items():\n",
        "                print(\"{0}\\t{1}\".format(metric, value))\n",
        "        else:\n",
        "            return metrics"
      ]
    },
    {
      "cell_type": "code",
      "execution_count": null,
      "metadata": {
        "colab": {
          "base_uri": "https://localhost:8080/"
        },
        "id": "Wui9zDs9iWLy",
        "outputId": "9f0167bf-44dc-40a1-f1d1-65d1f1daf95a"
      },
      "outputs": [
        {
          "name": "stdout",
          "output_type": "stream",
          "text": [
            "accuracy\t0.7649950835791544\n",
            "f1_score\t0.754122108843251\n"
          ]
        }
      ],
      "source": [
        "MultinomialNBBase = MultinomialNBBase(\n",
        "    train_texts,\n",
        "    train_labels,\n",
        "    test_texts,\n",
        "    test_labels,\n",
        "    dev_texts,\n",
        "    dev_labels\n",
        ")\n",
        "MultinomialNBBase.train()\n",
        "MultinomialNBBase.evaluate()"
      ]
    },
    {
      "cell_type": "code",
      "execution_count": null,
      "metadata": {
        "id": "JrYIO8fa_K4u"
      },
      "outputs": [],
      "source": [
        "class EmbeddingConv1DBase():\n",
        "    def __init__(self, x_train, y_train, x_test, y_test, x_val, y_val):\n",
        "        self.x_train = x_train\n",
        "        self.y_train = y_train\n",
        "        self.x_test = x_test\n",
        "        self.y_test = y_test\n",
        "        self.x_val = x_val\n",
        "        self.y_val = y_val\n",
        "        self.num_words = 300_000\n",
        "        self.oov_token = '<OOV>'\n",
        "        self.seq_len = 64\n",
        "        self.output_dim = 128\n",
        "        self.epochs = 10\n",
        "        self.loss = tf.keras.losses.CategoricalCrossentropy()\n",
        "        self.optimizer = tf.keras.optimizers.Adam(learning_rate=0.001)\n",
        "        self.model = tf.keras.Sequential()\n",
        "\n",
        "    def tokenize(self):\n",
        "        tokenizer = Tokenizer(num_words=self.num_words,\n",
        "                              oov_token=self.oov_token,\n",
        "                              lower=True)\n",
        "        tokenizer.fit_on_texts(self.x_train)\n",
        "\n",
        "        self.x_train_toks = tokenizer.texts_to_sequences(self.x_train)\n",
        "        self.x_train_toks = pad_sequences(self.x_train_toks,\n",
        "                                          padding='post',\n",
        "                                          maxlen=self.seq_len,\n",
        "                                          truncating='post')\n",
        "\n",
        "        self.x_test_toks = tokenizer.texts_to_sequences(self.x_test)\n",
        "        self.x_test_toks = pad_sequences(self.x_test_toks,\n",
        "                                         padding='post',\n",
        "                                         maxlen=self.seq_len,\n",
        "                                         truncating='post')\n",
        "\n",
        "        self.x_val_toks = tokenizer.texts_to_sequences(self.x_val)\n",
        "        self.x_val_toks = pad_sequences(self.x_val_toks,\n",
        "                                        padding='post',\n",
        "                                        maxlen=self.seq_len,\n",
        "                                        truncating='post')\n",
        "\n",
        "    def prep_dataset(self):\n",
        "        self.train_dataset = tf.data.Dataset.from_tensor_slices((self.x_train_toks, self.y_train)).batch(64).prefetch(\n",
        "            tf.data.AUTOTUNE)\n",
        "        self.test_dataset = tf.data.Dataset.from_tensor_slices((self.x_test_toks, self.y_test)).batch(64).prefetch(\n",
        "            tf.data.AUTOTUNE)\n",
        "        self.val_dataset = tf.data.Dataset.from_tensor_slices((self.x_val_toks, self.y_val)).batch(64).prefetch(\n",
        "            tf.data.AUTOTUNE)\n",
        "\n",
        "    def create_model(self):\n",
        "        self.model.add(tf.keras.layers.Embedding(input_dim=self.num_words,\n",
        "                                                 output_dim=self.output_dim,\n",
        "                                                 input_length=self.seq_len))\n",
        "        self.model.add(tf.keras.layers.Conv1D(filters=32,\n",
        "                                              kernel_size=6,\n",
        "                                              padding='same',\n",
        "                                              activation='relu'))\n",
        "        self.model.add(tf.keras.layers.GlobalAveragePooling1D())\n",
        "        self.model.add(tf.keras.layers.Dense(units=64, activation='relu'))\n",
        "        self.model.add(tf.keras.layers.Dense(units=5, activation='softmax'))\n",
        "\n",
        "        self.model.compile(loss='categorical_crossentropy',\n",
        "                           optimizer='Adam',\n",
        "                           metrics=['accuracy'])\n",
        "\n",
        "        self.model.summary()\n",
        "\n",
        "    def fit(self):\n",
        "        self.history = self.model.fit(x=self.train_dataset,\n",
        "                                      epochs=self.epochs,\n",
        "                                      validation_data=self.val_dataset,\n",
        "                                      steps_per_epoch=int(0.1 * len(self.train_dataset)),\n",
        "                                      validation_steps=int(0.1 * len(self.val_dataset)),\n",
        "                                      verbose=2)\n",
        "\n",
        "    def evaluate(self):\n",
        "        y_pred = self.model.predict(self.test_dataset)\n",
        "        accuracy = tf.keras.metrics.CategoricalAccuracy()\n",
        "        accuracy.update_state(y_pred, self.y_test)\n",
        "        print(\"{0}\\t{1}\".format('accuracy', accuracy.result()))\n",
        "        f1 = tf.keras.metrics.F1Score(average='weighted')\n",
        "        f1.update_state(y_pred, self.y_test)\n",
        "        print(\"{0}\\t{1}\".format('f1_score', f1.result()))\n",
        "\n",
        "\n",
        "    def train(self):\n",
        "        self.tokenize()\n",
        "        self.prep_dataset()\n",
        "        self.create_model()\n",
        "        self.fit()"
      ]
    },
    {
      "cell_type": "code",
      "execution_count": null,
      "metadata": {
        "colab": {
          "base_uri": "https://localhost:8080/"
        },
        "id": "z0UKqkF0mGQJ",
        "outputId": "460e6b7d-0bb2-44ea-82e9-98c890ba3bf3"
      },
      "outputs": [
        {
          "name": "stdout",
          "output_type": "stream",
          "text": [
            "Model: \"sequential_3\"\n",
            "_________________________________________________________________\n",
            " Layer (type)                Output Shape              Param #   \n",
            "=================================================================\n",
            " embedding_2 (Embedding)     (None, 64, 128)           38400000  \n",
            "                                                                 \n",
            " conv1d_2 (Conv1D)           (None, 64, 32)            24608     \n",
            "                                                                 \n",
            " global_average_pooling1d_2  (None, 32)                0         \n",
            "  (GlobalAveragePooling1D)                                       \n",
            "                                                                 \n",
            " dense_4 (Dense)             (None, 64)                2112      \n",
            "                                                                 \n",
            " dense_5 (Dense)             (None, 5)                 325       \n",
            "                                                                 \n",
            "=================================================================\n",
            "Total params: 38427045 (146.59 MB)\n",
            "Trainable params: 38427045 (146.59 MB)\n",
            "Non-trainable params: 0 (0.00 Byte)\n",
            "_________________________________________________________________\n",
            "Epoch 1/10\n",
            "3456/3456 - 68s - loss: 0.5905 - accuracy: 0.7777 - val_loss: 0.4786 - val_accuracy: 0.8250 - 68s/epoch - 20ms/step\n",
            "Epoch 2/10\n",
            "3456/3456 - 44s - loss: 0.4753 - accuracy: 0.8272 - val_loss: 0.4511 - val_accuracy: 0.8285 - 44s/epoch - 13ms/step\n",
            "Epoch 3/10\n",
            "3456/3456 - 42s - loss: 0.4543 - accuracy: 0.8346 - val_loss: 0.4239 - val_accuracy: 0.8406 - 42s/epoch - 12ms/step\n",
            "Epoch 4/10\n",
            "3456/3456 - 42s - loss: 0.4377 - accuracy: 0.8404 - val_loss: 0.4127 - val_accuracy: 0.8451 - 42s/epoch - 12ms/step\n",
            "Epoch 5/10\n",
            "3456/3456 - 42s - loss: 0.4332 - accuracy: 0.8426 - val_loss: 0.4057 - val_accuracy: 0.8490 - 42s/epoch - 12ms/step\n",
            "Epoch 6/10\n",
            "3456/3456 - 42s - loss: 0.4221 - accuracy: 0.8465 - val_loss: 0.4018 - val_accuracy: 0.8507 - 42s/epoch - 12ms/step\n",
            "Epoch 7/10\n",
            "3456/3456 - 42s - loss: 0.4187 - accuracy: 0.8472 - val_loss: 0.4028 - val_accuracy: 0.8493 - 42s/epoch - 12ms/step\n",
            "Epoch 8/10\n",
            "3456/3456 - 41s - loss: 0.4111 - accuracy: 0.8497 - val_loss: 0.3914 - val_accuracy: 0.8493 - 41s/epoch - 12ms/step\n",
            "Epoch 9/10\n",
            "3456/3456 - 42s - loss: 0.4101 - accuracy: 0.8507 - val_loss: 0.3909 - val_accuracy: 0.8583 - 42s/epoch - 12ms/step\n",
            "Epoch 10/10\n",
            "3456/3456 - 42s - loss: 0.4081 - accuracy: 0.8505 - val_loss: 0.3844 - val_accuracy: 0.8521 - 42s/epoch - 12ms/step\n"
          ]
        }
      ],
      "source": [
        "EmbeddingConv1DBase = EmbeddingConv1DBase(\n",
        "    train_texts,\n",
        "    train_labels_one_hot,\n",
        "    test_texts,\n",
        "    test_labels_one_hot,\n",
        "    dev_texts,\n",
        "    dev_labels_one_hot\n",
        ")\n",
        "EmbeddingConv1DBase.train()"
      ]
    },
    {
      "cell_type": "code",
      "execution_count": null,
      "metadata": {
        "colab": {
          "base_uri": "https://localhost:8080/"
        },
        "id": "GN5kATltrO7y",
        "outputId": "c7a50c93-d171-45b2-f47f-6ed42d4ba520"
      },
      "outputs": [
        {
          "name": "stdout",
          "output_type": "stream",
          "text": [
            "461/461 [==============================] - 1s 2ms/step\n",
            "accuracy\t0.8554233312606812\n",
            "f1_score\t0.7957361340522766\n"
          ]
        }
      ],
      "source": [
        "EmbeddingConv1DBase.evaluate()"
      ]
    },
    {
      "cell_type": "code",
      "execution_count": null,
      "metadata": {
        "id": "cRQSofTBu8XQ"
      },
      "outputs": [],
      "source": [
        "# Function to split sentences by characters\n",
        "\n",
        "def get_sents_split_by_chars(data):\n",
        "  return [\" \".join(list(item['text'])) for item in data]"
      ]
    },
    {
      "cell_type": "code",
      "execution_count": null,
      "metadata": {
        "colab": {
          "base_uri": "https://localhost:8080/"
        },
        "id": "Q2_o5KBv3HET",
        "outputId": "dfb3462f-ea59-48f6-8818-60276aaddb06"
      },
      "outputs": [
        {
          "name": "stdout",
          "output_type": "stream",
          "text": [
            "T h e   e m e r g e n c e   o f   H I V   a s   a   c h r o n i c   c o n d i t i o n   m e a n s   t h a t   p e o p l e   l i v i n g   w i t h   H I V   a r e   r e q u i r e d   t o   t a k e   m o r e   r e s p o n s i b i l i t y   f o r   t h e   s e l f - m a n a g e m e n t   o f   t h e i r   c o n d i t i o n   ,   i n c l u d i n g   m a k i n g   p h y s i c a l   ,   e m o t i o n a l   a n d   s o c i a l   a d j u s t m e n t s   .\n"
          ]
        }
      ],
      "source": [
        "# Creating character-based datasets\n",
        "\n",
        "train_chars = get_sents_split_by_chars(train_data)\n",
        "test_chars = get_sents_split_by_chars(test_data)\n",
        "dev_chars = get_sents_split_by_chars(dev_data)"
      ]
    },
    {
      "cell_type": "code",
      "execution_count": null,
      "metadata": {
        "id": "AgwgUWfpDHIR"
      },
      "outputs": [],
      "source": [
        "# Positional encoding of line numbers\n",
        "\n",
        "def positional_encoding(data):\n",
        "  line_numbers = [[item['line_number'], item['total_lines']] for item in data]\n",
        "  line_numbers_tf = tf.constant(line_numbers, dtype=tf.float32)\n",
        "  max_line_number = tf.reduce_max(line_numbers_tf)\n",
        "  min_line_number = tf.reduce_min(line_numbers_tf)\n",
        "  positional_encoding = (line_numbers_tf - min_line_number) / (max_line_number - min_line_number)\n",
        "  return positional_encoding"
      ]
    },
    {
      "cell_type": "code",
      "execution_count": null,
      "metadata": {
        "id": "5BbUxc5PGEZn"
      },
      "outputs": [],
      "source": [
        "train_positions = positional_encoding(train_data)\n",
        "test_positions = positional_encoding(test_data)\n",
        "dev_positions = positional_encoding(dev_data)"
      ]
    },
    {
      "cell_type": "code",
      "execution_count": null,
      "metadata": {
        "id": "0rv2TOfL7G2G"
      },
      "outputs": [],
      "source": [
        "class PoseidonLSTM():\n",
        "    def __init__(self,\n",
        "                 x_train_sents,\n",
        "                 x_train_chars,\n",
        "                 x_train_pos,\n",
        "                 y_train,\n",
        "                 x_test_sents,\n",
        "                 x_test_chars,\n",
        "                 x_test_pos,\n",
        "                 y_test,\n",
        "                 x_val_sents,\n",
        "                 x_val_chars,\n",
        "                 x_val_pos,\n",
        "                 y_val):\n",
        "        self.x_train_sents = x_train_sents\n",
        "        self.x_train_chars = x_train_chars\n",
        "        self.x_train_pos = x_train_pos\n",
        "        self.y_train = y_train\n",
        "        self.x_test_sents = x_test_sents\n",
        "        self.x_test_chars = x_test_chars\n",
        "        self.x_test_pos = x_test_pos\n",
        "        self.y_test = y_test\n",
        "        self.x_val_sents = x_val_sents\n",
        "        self.x_val_chars = x_val_chars\n",
        "        self.x_val_pos = x_val_pos\n",
        "        self.y_val = y_val\n",
        "        self.num_chars = len(string.ascii_lowercase + string.digits + string.punctuation) + 12 # ASCII set size = 68;\n",
        "        self.char_seq_len = 296\n",
        "        self.embeddings_url = \"https://tfhub.dev/google/universal-sentence-encoder/4\"\n",
        "        self.learning_rate = 1e-2\n",
        "        self.label_smoothing = 0.2\n",
        "        self.loss = tf.keras.losses.CategoricalCrossentropy(label_smoothing=self.label_smoothing)\n",
        "        self.optimizer = tf.keras.optimizers.Adam(learning_rate=self.learning_rate)\n",
        "        self.epochs = 10\n",
        "        self.callback_monitor = 'val_accuracy'\n",
        "        self.callback_patience = 3\n",
        "        self.model_monitor = 'val_accuracy'\n",
        "        self.model_save = 'poseidon_lstm'\n",
        "        self.earlyCallback = tf.keras.callbacks.EarlyStopping(monitor=self.callback_monitor, patience=self.callback_patience)\n",
        "        self.checkpointCallback = tf.keras.callbacks.ModelCheckpoint(filepath=self.model_save, monitor=self.model_monitor, save_best_only=True)\n",
        "\n",
        "\n",
        "    def chars_vectorize(self):\n",
        "        self.char_vectors = tf.keras.layers.TextVectorization(\n",
        "            max_tokens = self.num_chars,\n",
        "            output_sequence_length = self.char_seq_len,\n",
        "            name = 'char_vectors'\n",
        "        )\n",
        "        local_char_dataset = tf.data.Dataset.from_tensor_slices(self.x_train_chars).batch(32).prefetch(tf.data.AUTOTUNE)\n",
        "        self.char_vectors.adapt(local_char_dataset)\n",
        "        del local_char_dataset\n",
        "\n",
        "    def prep_datasets(self):\n",
        "        def ds(sentences, chars, positions, one_hot_labels):\n",
        "          char_token_pos_data = tf.data.Dataset.from_tensor_slices((sentences, chars, positions))\n",
        "          labels = tf.data.Dataset.from_tensor_slices(one_hot_labels)\n",
        "          char_token_pos_dataset = tf.data.Dataset.zip(char_token_pos_data, labels).batch(32).prefetch(tf.data.AUTOTUNE)\n",
        "          return char_token_pos_dataset\n",
        "\n",
        "        self.train_dataset = ds(self.x_train_sents, self.x_train_chars, self.x_train_pos, self.y_train)\n",
        "        self.test_dataset = ds(self.x_test_sents, self.x_test_chars, self.x_test_pos, self.y_test)\n",
        "        self.val_dataset = ds(self.x_val_sents, self.x_val_chars, self.x_val_pos, self.y_val)\n",
        "\n",
        "    def create_model(self):\n",
        "        # 1. Leg: Word Embedding\n",
        "        token_input =  tf.keras.layers.Input(shape = [], dtype = tf.string, name = 'token_input')\n",
        "        word_embeddings = hub.KerasLayer(\n",
        "            self.embeddings_url,\n",
        "            trainable = False,\n",
        "            name = 'USE_word_embeddings'\n",
        "        )(token_input)\n",
        "        token_output = tf.keras.layers.Dense(128, activation = 'relu')(word_embeddings)\n",
        "        token_model = tf.keras.Model(inputs = token_input, outputs = token_output)\n",
        "\n",
        "        # 2. Leg: Character Embeddings + BiLSTM\n",
        "        char_input = tf.keras.layers.Input(shape =(1,), dtype = tf.string, name='char_input')\n",
        "        char_vectors = self.char_vectors(char_input)\n",
        "        char_embeddings = tf.keras.layers.Embedding(\n",
        "            input_dim = self.num_chars,\n",
        "            output_dim = 32,\n",
        "            mask_zero = True,\n",
        "            name = 'char_embeddings'\n",
        "        )(char_vectors)\n",
        "        char_bi_lstm = tf.keras.layers.Bidirectional(tf.keras.layers.LSTM(24))(char_embeddings)\n",
        "        char_model = tf.keras.Model(inputs = char_input, outputs = char_bi_lstm)\n",
        "\n",
        "        # 3. Leg: Positional Encodings\n",
        "        line_number_total_lines_input = tf.keras.layers.Input(shape=(2,), dtype = tf.float32, name='line_number_total_line_input')\n",
        "        x = tf.keras.layers.Dense(24, activation='relu')(line_number_total_lines_input)\n",
        "        line_number_total_lines_model = tf.keras.Model(inputs=line_number_total_lines_input, outputs=x)\n",
        "\n",
        "        # Word-char Embeddings Concatenation\n",
        "        token_char_concat = tf.keras.layers.Concatenate(name='token_char_concat')([\n",
        "            token_model.output,\n",
        "            char_model.output\n",
        "        ])\n",
        "\n",
        "        token_char_concat_dropout = tf.keras.layers.Dropout(0.5)(token_char_concat)\n",
        "\n",
        "        # Word-char-positions Concatenation\n",
        "        fork = tf.keras.layers.Concatenate(name='token_char_pos_concat')([\n",
        "            token_char_concat_dropout,\n",
        "            line_number_total_lines_model.output\n",
        "        ])\n",
        "\n",
        "        # Output layers\n",
        "        combined_dropout = tf.keras.layers.Dropout(0.5)(fork)\n",
        "        combined_lstm = tf.keras.layers.Dense(128, activation='relu')(combined_dropout)\n",
        "        final_dropout = tf.keras.layers.Dropout(0.5)(combined_lstm)\n",
        "        output_layer = tf.keras.layers.Dense(5, activation = 'softmax')(final_dropout)\n",
        "\n",
        "        self.model = tf.keras.Model(inputs = [token_model.input, char_model.input, line_number_total_lines_model.input], outputs = output_layer, name = 'poseidon_lstm')\n",
        "\n",
        "        self.model.compile(\n",
        "            loss = self.loss,\n",
        "            optimizer = self.optimizer,\n",
        "            metrics = ['accuracy']\n",
        "        )\n",
        "\n",
        "        self.model.summary()\n",
        "\n",
        "    def plot_learning_curves(self):\n",
        "      plt.plot(self.history.history['loss'])\n",
        "      plt.plot(self.history.history['val_loss'])\n",
        "      plt.title('Model loss')\n",
        "      plt.ylabel('Loss')\n",
        "      plt.xlabel('Epoch')\n",
        "      plt.legend(['Train', 'Val'], loc='upper left')\n",
        "      plt.show()\n",
        "\n",
        "      plt.plot(self.history.history['accuracy'])\n",
        "      plt.plot(self.history.history['val_accuracy'])\n",
        "      plt.title('Model accuracy')\n",
        "      plt.ylabel('Accuracy')\n",
        "      plt.xlabel('Epoch')\n",
        "      plt.legend(['Train', 'Val'], loc='upper left')\n",
        "      plt.show()\n",
        "\n",
        "    def fit(self):\n",
        "        self.history = self.model.fit(\n",
        "            self.train_dataset,\n",
        "            validation_data = self.val_dataset,\n",
        "            steps_per_epoch = int(0.01 * len(self.train_dataset)),\n",
        "            validation_steps = int(0.01 * len(self.val_dataset)),\n",
        "            epochs = self.epochs,\n",
        "            callbacks=[self.earlyCallback, self.checkpointCallback]\n",
        "        )\n",
        "\n",
        "    def evaluate(self):\n",
        "        y_pred = self.model.predict(self.test_dataset)\n",
        "        accuracy = tf.keras.metrics.CategoricalAccuracy()\n",
        "        accuracy.update_state(y_pred, self.y_test)\n",
        "        print(\"{0}\\t{1}\".format('accuracy', accuracy.result()))\n",
        "        f1 = tf.keras.metrics.F1Score(average='weighted')\n",
        "        f1.update_state(y_pred, self.y_test)\n",
        "        print(\"{0}\\t{1}\".format('f1_score', f1.result()))\n",
        "\n",
        "    def train(self):\n",
        "        self.chars_vectorize()\n",
        "        self.prep_datasets()\n",
        "        self.create_model()\n",
        "        self.fit()"
      ]
    },
    {
      "cell_type": "code",
      "execution_count": null,
      "metadata": {
        "id": "U1fsKkXHEHqO"
      },
      "outputs": [],
      "source": [
        "PoseidonLSTM = PoseidonLSTM(\n",
        "    train_texts,\n",
        "    train_chars,\n",
        "    train_positions,\n",
        "    train_labels_one_hot,\n",
        "    test_texts,\n",
        "    test_chars,\n",
        "    test_positions,\n",
        "    test_labels_one_hot,\n",
        "    dev_texts,\n",
        "    dev_chars,\n",
        "    dev_positions,\n",
        "    dev_labels_one_hot\n",
        ")"
      ]
    },
    {
      "cell_type": "code",
      "execution_count": null,
      "metadata": {
        "colab": {
          "base_uri": "https://localhost:8080/"
        },
        "id": "sgUG-YA-QdOC",
        "outputId": "363aec8f-1cdb-4f30-cece-4ed2b5789303"
      },
      "outputs": [
        {
          "name": "stdout",
          "output_type": "stream",
          "text": [
            "Model: \"poseidon_lstm\"\n",
            "__________________________________________________________________________________________________\n",
            " Layer (type)                Output Shape                 Param #   Connected to                  \n",
            "==================================================================================================\n",
            " char_input (InputLayer)     [(None, 1)]                  0         []                            \n",
            "                                                                                                  \n",
            " token_input (InputLayer)    [(None,)]                    0         []                            \n",
            "                                                                                                  \n",
            " char_vectors (TextVectoriz  (None, 296)                  0         ['char_input[0][0]']          \n",
            " ation)                                                                                           \n",
            "                                                                                                  \n",
            " USE_word_embeddings (Keras  (None, 512)                  2567978   ['token_input[0][0]']         \n",
            " Layer)                                                   24                                      \n",
            "                                                                                                  \n",
            " char_embeddings (Embedding  (None, 296, 32)              2560      ['char_vectors[0][0]']        \n",
            " )                                                                                                \n",
            "                                                                                                  \n",
            " dense_12 (Dense)            (None, 128)                  65664     ['USE_word_embeddings[0][0]'] \n",
            "                                                                                                  \n",
            " bidirectional_3 (Bidirecti  (None, 48)                   10944     ['char_embeddings[0][0]']     \n",
            " onal)                                                                                            \n",
            "                                                                                                  \n",
            " token_char_concat (Concate  (None, 176)                  0         ['dense_12[0][0]',            \n",
            " nate)                                                               'bidirectional_3[0][0]']     \n",
            "                                                                                                  \n",
            " line_number_total_line_inp  [(None, 2)]                  0         []                            \n",
            " ut (InputLayer)                                                                                  \n",
            "                                                                                                  \n",
            " dropout_9 (Dropout)         (None, 176)                  0         ['token_char_concat[0][0]']   \n",
            "                                                                                                  \n",
            " dense_13 (Dense)            (None, 24)                   72        ['line_number_total_line_input\n",
            "                                                                    [0][0]']                      \n",
            "                                                                                                  \n",
            " token_char_pos_concat (Con  (None, 200)                  0         ['dropout_9[0][0]',           \n",
            " catenate)                                                           'dense_13[0][0]']            \n",
            "                                                                                                  \n",
            " dropout_10 (Dropout)        (None, 200)                  0         ['token_char_pos_concat[0][0]'\n",
            "                                                                    ]                             \n",
            "                                                                                                  \n",
            " dense_14 (Dense)            (None, 128)                  25728     ['dropout_10[0][0]']          \n",
            "                                                                                                  \n",
            " dropout_11 (Dropout)        (None, 128)                  0         ['dense_14[0][0]']            \n",
            "                                                                                                  \n",
            " dense_15 (Dense)            (None, 5)                    645       ['dropout_11[0][0]']          \n",
            "                                                                                                  \n",
            "==================================================================================================\n",
            "Total params: 256903437 (980.01 MB)\n",
            "Trainable params: 105613 (412.55 KB)\n",
            "Non-trainable params: 256797824 (979.61 MB)\n",
            "__________________________________________________________________________________________________\n",
            "Epoch 1/10\n",
            "691/691 [==============================] - 77s 95ms/step - loss: 1.1377 - accuracy: 0.7015 - val_loss: 0.9882 - val_accuracy: 0.7917\n",
            "Epoch 2/10\n",
            "691/691 [==============================] - 60s 88ms/step - loss: 1.0890 - accuracy: 0.7312 - val_loss: 0.9839 - val_accuracy: 0.8021\n",
            "Epoch 3/10\n",
            "691/691 [==============================] - 113s 164ms/step - loss: 1.0811 - accuracy: 0.7372 - val_loss: 1.0112 - val_accuracy: 0.8264\n",
            "Epoch 4/10\n",
            "691/691 [==============================] - 30s 43ms/step - loss: 1.0692 - accuracy: 0.7423 - val_loss: 0.9863 - val_accuracy: 0.7812\n",
            "Epoch 5/10\n",
            "691/691 [==============================] - 27s 39ms/step - loss: 1.0650 - accuracy: 0.7468 - val_loss: 0.9577 - val_accuracy: 0.8056\n",
            "Epoch 6/10\n",
            "691/691 [==============================] - 27s 39ms/step - loss: 1.0634 - accuracy: 0.7464 - val_loss: 0.9665 - val_accuracy: 0.7847\n"
          ]
        }
      ],
      "source": [
        "PoseidonLSTM.train()"
      ]
    },
    {
      "cell_type": "code",
      "execution_count": null,
      "metadata": {
        "colab": {
          "base_uri": "https://localhost:8080/",
          "height": 1000
        },
        "id": "5TQBUBZTQsFT",
        "outputId": "89005255-bdae-4ff7-9686-47fde066a11e"
      },
      "outputs": [
        {
          "data": {
            "image/png": "[encoded data removed]",
            "text/plain": [
              "<IPython.core.display.Image object>"
            ]
          },
          "execution_count": 45,
          "metadata": {},
          "output_type": "execute_result"
        }
      ],
      "source": [
        "plot_model(PoseidonLSTM.model, show_shapes=True)"
      ]
    },
    {
      "cell_type": "code",
      "execution_count": null,
      "metadata": {
        "colab": {
          "base_uri": "https://localhost:8080/"
        },
        "id": "_NXajp3E6tqi",
        "outputId": "64c6e5e0-33e6-4704-9821-f6b8d7349ba2"
      },
      "outputs": [
        {
          "name": "stdout",
          "output_type": "stream",
          "text": [
            "922/922 [==============================] - 21s 20ms/step\n",
            "accuracy\t0.7962567210197449\n",
            "f1_score\t0.5669800043106079\n"
          ]
        }
      ],
      "source": [
        "PoseidonLSTM.evaluate()"
      ]
    },
    {
      "cell_type": "code",
      "execution_count": null,
      "metadata": {
        "colab": {
          "base_uri": "https://localhost:8080/",
          "height": 927
        },
        "id": "A1Z6LZ8h8zKt",
        "outputId": "eb3905b4-8d3b-45c7-e34f-6eed8a87f74c"
      },
      "outputs": [
        {
          "data": {
            "image/png": "[encoded data removed]",
            "text/plain": [
              "<Figure size 640x480 with 1 Axes>"
            ]
          },
          "metadata": {},
          "output_type": "display_data"
        },
        {
          "data": {
            "image/png": "[encoded data removed]",
            "text/plain": [
              "<Figure size 640x480 with 1 Axes>"
            ]
          },
          "metadata": {},
          "output_type": "display_data"
        }
      ],
      "source": [
        "PoseidonLSTM.plot_learning_curves()"
      ]
    },
    {
      "cell_type": "code",
      "execution_count": null,
      "metadata": {
        "colab": {
          "base_uri": "https://localhost:8080/"
        },
        "id": "ejIg09JQ9IhJ",
        "outputId": "4d29a961-429b-43ee-f7fa-63671bafe138"
      },
      "outputs": [
        {
          "output_type": "stream",
          "name": "stdout",
          "text": [
            "Model: \"poseidon_lstm\"\n",
            "__________________________________________________________________________________________________\n",
            " Layer (type)                Output Shape                 Param #   Connected to                  \n",
            "==================================================================================================\n",
            " char_input (InputLayer)     [(None, 1)]                  0         []                            \n",
            "                                                                                                  \n",
            " token_input (InputLayer)    [(None,)]                    0         []                            \n",
            "                                                                                                  \n",
            " char_vectors (TextVectoriz  (None, 296)                  0         ['char_input[0][0]']          \n",
            " ation)                                                                                           \n",
            "                                                                                                  \n",
            " USE_word_embeddings (Keras  (None, 512)                  2567978   ['token_input[0][0]']         \n",
            " Layer)                                                   24                                      \n",
            "                                                                                                  \n",
            " char_embeddings (Embedding  (None, 296, 32)              2560      ['char_vectors[0][0]']        \n",
            " )                                                                                                \n",
            "                                                                                                  \n",
            " dense (Dense)               (None, 128)                  65664     ['USE_word_embeddings[0][0]'] \n",
            "                                                                                                  \n",
            " bidirectional (Bidirection  (None, 48)                   10944     ['char_embeddings[0][0]']     \n",
            " al)                                                                                              \n",
            "                                                                                                  \n",
            " token_char_concat (Concate  (None, 176)                  0         ['dense[0][0]',               \n",
            " nate)                                                               'bidirectional[0][0]']       \n",
            "                                                                                                  \n",
            " line_number_total_line_inp  [(None, 2)]                  0         []                            \n",
            " ut (InputLayer)                                                                                  \n",
            "                                                                                                  \n",
            " dropout (Dropout)           (None, 176)                  0         ['token_char_concat[0][0]']   \n",
            "                                                                                                  \n",
            " dense_1 (Dense)             (None, 24)                   72        ['line_number_total_line_input\n",
            "                                                                    [0][0]']                      \n",
            "                                                                                                  \n",
            " token_char_pos_concat (Con  (None, 200)                  0         ['dropout[0][0]',             \n",
            " catenate)                                                           'dense_1[0][0]']             \n",
            "                                                                                                  \n",
            " dropout_1 (Dropout)         (None, 200)                  0         ['token_char_pos_concat[0][0]'\n",
            "                                                                    ]                             \n",
            "                                                                                                  \n",
            " dense_2 (Dense)             (None, 128)                  25728     ['dropout_1[0][0]']           \n",
            "                                                                                                  \n",
            " dropout_2 (Dropout)         (None, 128)                  0         ['dense_2[0][0]']             \n",
            "                                                                                                  \n",
            " dense_3 (Dense)             (None, 5)                    645       ['dropout_2[0][0]']           \n",
            "                                                                                                  \n",
            "==================================================================================================\n",
            "Total params: 256903437 (980.01 MB)\n",
            "Trainable params: 105613 (412.55 KB)\n",
            "Non-trainable params: 256797824 (979.61 MB)\n",
            "__________________________________________________________________________________________________\n"
          ]
        }
      ],
      "source": [
        "# Testing saved model\n",
        "\n",
        "model_path = \"/content/drive/MyDrive/SCRIPTS/JupyterRoot/NeuralNets/poseidon_lstm\"\n",
        "model = tf.keras.models.load_model(model_path)\n",
        "model.summary()"
      ]
    },
    {
      "cell_type": "code",
      "execution_count": null,
      "metadata": {
        "id": "A5642mNKOXtN"
      },
      "outputs": [],
      "source": [
        "def predict(sentences):\n",
        "\n",
        "    processed_sentences = []\n",
        "    processed_chars = []\n",
        "    positions = []\n",
        "\n",
        "    for i, sentence in enumerate(sentences):\n",
        "        # For sentences\n",
        "        processed_sentence = tf.constant([sentence])  # Model expects batch dimension\n",
        "        processed_sentences.append(processed_sentence)\n",
        "\n",
        "        # For characters\n",
        "        sentence_chars = \" \".join(list(sentence))\n",
        "        processed_chars.append(tf.constant([sentence_chars]))  # Model expects batch dimension\n",
        "\n",
        "        # For positional encoding\n",
        "        position_encoding = tf.constant([[i, len(sentences)]], dtype=tf.float32)\n",
        "        positions.append(position_encoding)\n",
        "\n",
        "    # Predict classes for each sentence\n",
        "    predictions = []\n",
        "    for sent, chars, pos in zip(processed_sentences, processed_chars, positions):\n",
        "        pred = model.predict([sent, chars, pos])\n",
        "        predicted_class = np.argmax(pred, axis=1)\n",
        "        predictions.append(predicted_class.item())\n",
        "\n",
        "    predictions = [INT_LABEL_MAPPING[label] for label in predictions]\n",
        "\n",
        "    return predictions"
      ]
    },
    {
      "cell_type": "code",
      "source": [
        "def structure_sentences(sentences, predictions):\n",
        "\n",
        "    # Group sentences by their predicted labels\n",
        "    grouped_sentences = defaultdict(list)\n",
        "    for sentence, prediction in zip(sentences, predictions):\n",
        "        grouped_sentences[prediction].append(sentence)\n",
        "\n",
        "    # Construct the structured text\n",
        "    structured_text = \"\"\n",
        "    for label, sentences in grouped_sentences.items():\n",
        "        structured_text += f\"{label}:\\n\" + \" \".join(sentences) + \"\\n\\n\"\n",
        "\n",
        "    return structured_text.strip()"
      ],
      "metadata": {
        "id": "spRljh1S1-5l"
      },
      "execution_count": null,
      "outputs": []
    },
    {
      "cell_type": "code",
      "source": [
        "nltk.download('punkt')\n",
        "raw_abstract = \"Protein folding should be complex. Proteins organize themselves into specific three-dimensional structures, through a myriad of conformational changes. The classical view of protein folding describes this process as a nearly sequential series of discrete intermediates. In contrast, the energy landscape theory of folding considers folding as the progressive organization of an ensemble of partially folded structures through which the protein passes on its way to the natively folded structure. As a result of evolution, proteins have a rugged funnel-like landscape biased toward the native structure. Connecting theory and simulations of minimalist models with experiments has completely revolutionized our understanding of the underlying mechanisms that control protein folding.\"\n",
        "sentences = nltk.sent_tokenize(raw_abstract)\n",
        "predictions = predict(sentences)\n",
        "struct_sents = structure_sentences(sentences, predictions)\n",
        "\n",
        "print(struct_sents)"
      ],
      "metadata": {
        "colab": {
          "base_uri": "https://localhost:8080/"
        },
        "id": "7rXZ96jf12DY",
        "outputId": "31fd0e01-76a7-4297-f1fa-a0a226c2128d"
      },
      "execution_count": null,
      "outputs": [
        {
          "output_type": "stream",
          "name": "stderr",
          "text": [
            "[nltk_data] Downloading package punkt to /root/nltk_data...\n",
            "[nltk_data]   Package punkt is already up-to-date!\n"
          ]
        },
        {
          "output_type": "stream",
          "name": "stdout",
          "text": [
            "1/1 [==============================] - 0s 148ms/step\n",
            "1/1 [==============================] - 0s 122ms/step\n",
            "1/1 [==============================] - 0s 140ms/step\n",
            "1/1 [==============================] - 0s 105ms/step\n",
            "1/1 [==============================] - 0s 153ms/step\n",
            "1/1 [==============================] - 0s 96ms/step\n",
            "OBJECTIVE:\n",
            "Protein folding should be complex. Proteins organize themselves into specific three-dimensional structures, through a myriad of conformational changes.\n",
            "\n",
            "METHODS:\n",
            "The classical view of protein folding describes this process as a nearly sequential series of discrete intermediates. In contrast, the energy landscape theory of folding considers folding as the progressive organization of an ensemble of partially folded structures through which the protein passes on its way to the natively folded structure.\n",
            "\n",
            "RESULTS:\n",
            "As a result of evolution, proteins have a rugged funnel-like landscape biased toward the native structure.\n",
            "\n",
            "CONCLUSIONS:\n",
            "Connecting theory and simulations of minimalist models with experiments has completely revolutionized our understanding of the underlying mechanisms that control protein folding.\n"
          ]
        }
      ]
    },
    {
      "cell_type": "code",
      "source": [],
      "metadata": {
        "id": "G2pnKDOH2VCk"
      },
      "execution_count": null,
      "outputs": []
    }
  ],
  "metadata": {
    "accelerator": "GPU",
    "colab": {
      "gpuType": "T4",
      "provenance": []
    },
    "kernelspec": {
      "display_name": "Python 3",
      "name": "python3"
    },
    "language_info": {
      "name": "python"
    }
  },
  "nbformat": 4,
  "nbformat_minor": 0
}